{
 "cells": [
  {
   "cell_type": "code",
   "execution_count": 1,
   "metadata": {},
   "outputs": [],
   "source": [
    "import pandas as pd\n",
    "import numpy as np\n",
    "import matplotlib.pyplot as plt\n",
    "from sklearn import tree\n",
    "from sklearn.tree import DecisionTreeClassifier\n",
    "from sklearn.tree import DecisionTreeRegressor\n",
    "from sklearn import preprocessing\n",
    "from sklearn.model_selection import train_test_split"
   ]
  },
  {
   "cell_type": "code",
   "execution_count": 2,
   "metadata": {},
   "outputs": [],
   "source": [
    "df=pd.read_csv(\"D:\\\\DATA_science\\\\DATA_science assignment\\\\Decision_Tree\\\\company_data.csv\")"
   ]
  },
  {
   "cell_type": "code",
   "execution_count": 3,
   "metadata": {},
   "outputs": [
    {
     "data": {
      "text/html": [
       "<div>\n",
       "<style scoped>\n",
       "    .dataframe tbody tr th:only-of-type {\n",
       "        vertical-align: middle;\n",
       "    }\n",
       "\n",
       "    .dataframe tbody tr th {\n",
       "        vertical-align: top;\n",
       "    }\n",
       "\n",
       "    .dataframe thead th {\n",
       "        text-align: right;\n",
       "    }\n",
       "</style>\n",
       "<table border=\"1\" class=\"dataframe\">\n",
       "  <thead>\n",
       "    <tr style=\"text-align: right;\">\n",
       "      <th></th>\n",
       "      <th>Sales</th>\n",
       "      <th>CompPrice</th>\n",
       "      <th>Income</th>\n",
       "      <th>Advertising</th>\n",
       "      <th>Population</th>\n",
       "      <th>Price</th>\n",
       "      <th>ShelveLoc</th>\n",
       "      <th>Age</th>\n",
       "      <th>Education</th>\n",
       "      <th>Urban</th>\n",
       "      <th>US</th>\n",
       "    </tr>\n",
       "  </thead>\n",
       "  <tbody>\n",
       "    <tr>\n",
       "      <th>0</th>\n",
       "      <td>9.50</td>\n",
       "      <td>138</td>\n",
       "      <td>73</td>\n",
       "      <td>11</td>\n",
       "      <td>276</td>\n",
       "      <td>120</td>\n",
       "      <td>Bad</td>\n",
       "      <td>42</td>\n",
       "      <td>17</td>\n",
       "      <td>Yes</td>\n",
       "      <td>Yes</td>\n",
       "    </tr>\n",
       "    <tr>\n",
       "      <th>1</th>\n",
       "      <td>11.22</td>\n",
       "      <td>111</td>\n",
       "      <td>48</td>\n",
       "      <td>16</td>\n",
       "      <td>260</td>\n",
       "      <td>83</td>\n",
       "      <td>Good</td>\n",
       "      <td>65</td>\n",
       "      <td>10</td>\n",
       "      <td>Yes</td>\n",
       "      <td>Yes</td>\n",
       "    </tr>\n",
       "    <tr>\n",
       "      <th>2</th>\n",
       "      <td>10.06</td>\n",
       "      <td>113</td>\n",
       "      <td>35</td>\n",
       "      <td>10</td>\n",
       "      <td>269</td>\n",
       "      <td>80</td>\n",
       "      <td>Medium</td>\n",
       "      <td>59</td>\n",
       "      <td>12</td>\n",
       "      <td>Yes</td>\n",
       "      <td>Yes</td>\n",
       "    </tr>\n",
       "    <tr>\n",
       "      <th>3</th>\n",
       "      <td>7.40</td>\n",
       "      <td>117</td>\n",
       "      <td>100</td>\n",
       "      <td>4</td>\n",
       "      <td>466</td>\n",
       "      <td>97</td>\n",
       "      <td>Medium</td>\n",
       "      <td>55</td>\n",
       "      <td>14</td>\n",
       "      <td>Yes</td>\n",
       "      <td>Yes</td>\n",
       "    </tr>\n",
       "    <tr>\n",
       "      <th>4</th>\n",
       "      <td>4.15</td>\n",
       "      <td>141</td>\n",
       "      <td>64</td>\n",
       "      <td>3</td>\n",
       "      <td>340</td>\n",
       "      <td>128</td>\n",
       "      <td>Bad</td>\n",
       "      <td>38</td>\n",
       "      <td>13</td>\n",
       "      <td>Yes</td>\n",
       "      <td>No</td>\n",
       "    </tr>\n",
       "  </tbody>\n",
       "</table>\n",
       "</div>"
      ],
      "text/plain": [
       "   Sales  CompPrice  Income  Advertising  Population  Price ShelveLoc  Age  \\\n",
       "0   9.50        138      73           11         276    120       Bad   42   \n",
       "1  11.22        111      48           16         260     83      Good   65   \n",
       "2  10.06        113      35           10         269     80    Medium   59   \n",
       "3   7.40        117     100            4         466     97    Medium   55   \n",
       "4   4.15        141      64            3         340    128       Bad   38   \n",
       "\n",
       "   Education Urban   US  \n",
       "0         17   Yes  Yes  \n",
       "1         10   Yes  Yes  \n",
       "2         12   Yes  Yes  \n",
       "3         14   Yes  Yes  \n",
       "4         13   Yes   No  "
      ]
     },
     "execution_count": 3,
     "metadata": {},
     "output_type": "execute_result"
    }
   ],
   "source": [
    "df.head()"
   ]
  },
  {
   "cell_type": "code",
   "execution_count": 4,
   "metadata": {},
   "outputs": [
    {
     "data": {
      "text/plain": [
       "(400, 11)"
      ]
     },
     "execution_count": 4,
     "metadata": {},
     "output_type": "execute_result"
    }
   ],
   "source": [
    "df.shape"
   ]
  },
  {
   "cell_type": "code",
   "execution_count": 5,
   "metadata": {},
   "outputs": [
    {
     "data": {
      "text/html": [
       "<div>\n",
       "<style scoped>\n",
       "    .dataframe tbody tr th:only-of-type {\n",
       "        vertical-align: middle;\n",
       "    }\n",
       "\n",
       "    .dataframe tbody tr th {\n",
       "        vertical-align: top;\n",
       "    }\n",
       "\n",
       "    .dataframe thead th {\n",
       "        text-align: right;\n",
       "    }\n",
       "</style>\n",
       "<table border=\"1\" class=\"dataframe\">\n",
       "  <thead>\n",
       "    <tr style=\"text-align: right;\">\n",
       "      <th></th>\n",
       "      <th>Sales</th>\n",
       "      <th>CompPrice</th>\n",
       "      <th>Income</th>\n",
       "      <th>Advertising</th>\n",
       "      <th>Population</th>\n",
       "      <th>Price</th>\n",
       "      <th>Age</th>\n",
       "      <th>Education</th>\n",
       "    </tr>\n",
       "  </thead>\n",
       "  <tbody>\n",
       "    <tr>\n",
       "      <th>count</th>\n",
       "      <td>400.000000</td>\n",
       "      <td>400.000000</td>\n",
       "      <td>400.000000</td>\n",
       "      <td>400.000000</td>\n",
       "      <td>400.000000</td>\n",
       "      <td>400.000000</td>\n",
       "      <td>400.000000</td>\n",
       "      <td>400.000000</td>\n",
       "    </tr>\n",
       "    <tr>\n",
       "      <th>mean</th>\n",
       "      <td>7.496325</td>\n",
       "      <td>124.975000</td>\n",
       "      <td>68.657500</td>\n",
       "      <td>6.635000</td>\n",
       "      <td>264.840000</td>\n",
       "      <td>115.795000</td>\n",
       "      <td>53.322500</td>\n",
       "      <td>13.900000</td>\n",
       "    </tr>\n",
       "    <tr>\n",
       "      <th>std</th>\n",
       "      <td>2.824115</td>\n",
       "      <td>15.334512</td>\n",
       "      <td>27.986037</td>\n",
       "      <td>6.650364</td>\n",
       "      <td>147.376436</td>\n",
       "      <td>23.676664</td>\n",
       "      <td>16.200297</td>\n",
       "      <td>2.620528</td>\n",
       "    </tr>\n",
       "    <tr>\n",
       "      <th>min</th>\n",
       "      <td>0.000000</td>\n",
       "      <td>77.000000</td>\n",
       "      <td>21.000000</td>\n",
       "      <td>0.000000</td>\n",
       "      <td>10.000000</td>\n",
       "      <td>24.000000</td>\n",
       "      <td>25.000000</td>\n",
       "      <td>10.000000</td>\n",
       "    </tr>\n",
       "    <tr>\n",
       "      <th>25%</th>\n",
       "      <td>5.390000</td>\n",
       "      <td>115.000000</td>\n",
       "      <td>42.750000</td>\n",
       "      <td>0.000000</td>\n",
       "      <td>139.000000</td>\n",
       "      <td>100.000000</td>\n",
       "      <td>39.750000</td>\n",
       "      <td>12.000000</td>\n",
       "    </tr>\n",
       "    <tr>\n",
       "      <th>50%</th>\n",
       "      <td>7.490000</td>\n",
       "      <td>125.000000</td>\n",
       "      <td>69.000000</td>\n",
       "      <td>5.000000</td>\n",
       "      <td>272.000000</td>\n",
       "      <td>117.000000</td>\n",
       "      <td>54.500000</td>\n",
       "      <td>14.000000</td>\n",
       "    </tr>\n",
       "    <tr>\n",
       "      <th>75%</th>\n",
       "      <td>9.320000</td>\n",
       "      <td>135.000000</td>\n",
       "      <td>91.000000</td>\n",
       "      <td>12.000000</td>\n",
       "      <td>398.500000</td>\n",
       "      <td>131.000000</td>\n",
       "      <td>66.000000</td>\n",
       "      <td>16.000000</td>\n",
       "    </tr>\n",
       "    <tr>\n",
       "      <th>max</th>\n",
       "      <td>16.270000</td>\n",
       "      <td>175.000000</td>\n",
       "      <td>120.000000</td>\n",
       "      <td>29.000000</td>\n",
       "      <td>509.000000</td>\n",
       "      <td>191.000000</td>\n",
       "      <td>80.000000</td>\n",
       "      <td>18.000000</td>\n",
       "    </tr>\n",
       "  </tbody>\n",
       "</table>\n",
       "</div>"
      ],
      "text/plain": [
       "            Sales   CompPrice      Income  Advertising  Population  \\\n",
       "count  400.000000  400.000000  400.000000   400.000000  400.000000   \n",
       "mean     7.496325  124.975000   68.657500     6.635000  264.840000   \n",
       "std      2.824115   15.334512   27.986037     6.650364  147.376436   \n",
       "min      0.000000   77.000000   21.000000     0.000000   10.000000   \n",
       "25%      5.390000  115.000000   42.750000     0.000000  139.000000   \n",
       "50%      7.490000  125.000000   69.000000     5.000000  272.000000   \n",
       "75%      9.320000  135.000000   91.000000    12.000000  398.500000   \n",
       "max     16.270000  175.000000  120.000000    29.000000  509.000000   \n",
       "\n",
       "            Price         Age   Education  \n",
       "count  400.000000  400.000000  400.000000  \n",
       "mean   115.795000   53.322500   13.900000  \n",
       "std     23.676664   16.200297    2.620528  \n",
       "min     24.000000   25.000000   10.000000  \n",
       "25%    100.000000   39.750000   12.000000  \n",
       "50%    117.000000   54.500000   14.000000  \n",
       "75%    131.000000   66.000000   16.000000  \n",
       "max    191.000000   80.000000   18.000000  "
      ]
     },
     "execution_count": 5,
     "metadata": {},
     "output_type": "execute_result"
    }
   ],
   "source": [
    "df.describe()"
   ]
  },
  {
   "cell_type": "code",
   "execution_count": 6,
   "metadata": {},
   "outputs": [
    {
     "name": "stdout",
     "output_type": "stream",
     "text": [
      "<class 'pandas.core.frame.DataFrame'>\n",
      "RangeIndex: 400 entries, 0 to 399\n",
      "Data columns (total 11 columns):\n",
      " #   Column       Non-Null Count  Dtype  \n",
      "---  ------       --------------  -----  \n",
      " 0   Sales        400 non-null    float64\n",
      " 1   CompPrice    400 non-null    int64  \n",
      " 2   Income       400 non-null    int64  \n",
      " 3   Advertising  400 non-null    int64  \n",
      " 4   Population   400 non-null    int64  \n",
      " 5   Price        400 non-null    int64  \n",
      " 6   ShelveLoc    400 non-null    object \n",
      " 7   Age          400 non-null    int64  \n",
      " 8   Education    400 non-null    int64  \n",
      " 9   Urban        400 non-null    object \n",
      " 10  US           400 non-null    object \n",
      "dtypes: float64(1), int64(7), object(3)\n",
      "memory usage: 34.5+ KB\n"
     ]
    }
   ],
   "source": [
    "df.info()"
   ]
  },
  {
   "cell_type": "code",
   "execution_count": 7,
   "metadata": {},
   "outputs": [
    {
     "data": {
      "text/html": [
       "<div>\n",
       "<style scoped>\n",
       "    .dataframe tbody tr th:only-of-type {\n",
       "        vertical-align: middle;\n",
       "    }\n",
       "\n",
       "    .dataframe tbody tr th {\n",
       "        vertical-align: top;\n",
       "    }\n",
       "\n",
       "    .dataframe thead th {\n",
       "        text-align: right;\n",
       "    }\n",
       "</style>\n",
       "<table border=\"1\" class=\"dataframe\">\n",
       "  <thead>\n",
       "    <tr style=\"text-align: right;\">\n",
       "      <th></th>\n",
       "      <th>Sales</th>\n",
       "      <th>CompPrice</th>\n",
       "      <th>Income</th>\n",
       "      <th>Advertising</th>\n",
       "      <th>Population</th>\n",
       "      <th>Price</th>\n",
       "      <th>Age</th>\n",
       "      <th>Education</th>\n",
       "    </tr>\n",
       "  </thead>\n",
       "  <tbody>\n",
       "    <tr>\n",
       "      <th>Sales</th>\n",
       "      <td>1.000000</td>\n",
       "      <td>0.064079</td>\n",
       "      <td>0.151951</td>\n",
       "      <td>0.269507</td>\n",
       "      <td>0.050471</td>\n",
       "      <td>-0.444951</td>\n",
       "      <td>-0.231815</td>\n",
       "      <td>-0.051955</td>\n",
       "    </tr>\n",
       "    <tr>\n",
       "      <th>CompPrice</th>\n",
       "      <td>0.064079</td>\n",
       "      <td>1.000000</td>\n",
       "      <td>-0.080653</td>\n",
       "      <td>-0.024199</td>\n",
       "      <td>-0.094707</td>\n",
       "      <td>0.584848</td>\n",
       "      <td>-0.100239</td>\n",
       "      <td>0.025197</td>\n",
       "    </tr>\n",
       "    <tr>\n",
       "      <th>Income</th>\n",
       "      <td>0.151951</td>\n",
       "      <td>-0.080653</td>\n",
       "      <td>1.000000</td>\n",
       "      <td>0.058995</td>\n",
       "      <td>-0.007877</td>\n",
       "      <td>-0.056698</td>\n",
       "      <td>-0.004670</td>\n",
       "      <td>-0.056855</td>\n",
       "    </tr>\n",
       "    <tr>\n",
       "      <th>Advertising</th>\n",
       "      <td>0.269507</td>\n",
       "      <td>-0.024199</td>\n",
       "      <td>0.058995</td>\n",
       "      <td>1.000000</td>\n",
       "      <td>0.265652</td>\n",
       "      <td>0.044537</td>\n",
       "      <td>-0.004557</td>\n",
       "      <td>-0.033594</td>\n",
       "    </tr>\n",
       "    <tr>\n",
       "      <th>Population</th>\n",
       "      <td>0.050471</td>\n",
       "      <td>-0.094707</td>\n",
       "      <td>-0.007877</td>\n",
       "      <td>0.265652</td>\n",
       "      <td>1.000000</td>\n",
       "      <td>-0.012144</td>\n",
       "      <td>-0.042663</td>\n",
       "      <td>-0.106378</td>\n",
       "    </tr>\n",
       "    <tr>\n",
       "      <th>Price</th>\n",
       "      <td>-0.444951</td>\n",
       "      <td>0.584848</td>\n",
       "      <td>-0.056698</td>\n",
       "      <td>0.044537</td>\n",
       "      <td>-0.012144</td>\n",
       "      <td>1.000000</td>\n",
       "      <td>-0.102177</td>\n",
       "      <td>0.011747</td>\n",
       "    </tr>\n",
       "    <tr>\n",
       "      <th>Age</th>\n",
       "      <td>-0.231815</td>\n",
       "      <td>-0.100239</td>\n",
       "      <td>-0.004670</td>\n",
       "      <td>-0.004557</td>\n",
       "      <td>-0.042663</td>\n",
       "      <td>-0.102177</td>\n",
       "      <td>1.000000</td>\n",
       "      <td>0.006488</td>\n",
       "    </tr>\n",
       "    <tr>\n",
       "      <th>Education</th>\n",
       "      <td>-0.051955</td>\n",
       "      <td>0.025197</td>\n",
       "      <td>-0.056855</td>\n",
       "      <td>-0.033594</td>\n",
       "      <td>-0.106378</td>\n",
       "      <td>0.011747</td>\n",
       "      <td>0.006488</td>\n",
       "      <td>1.000000</td>\n",
       "    </tr>\n",
       "  </tbody>\n",
       "</table>\n",
       "</div>"
      ],
      "text/plain": [
       "                Sales  CompPrice    Income  Advertising  Population     Price  \\\n",
       "Sales        1.000000   0.064079  0.151951     0.269507    0.050471 -0.444951   \n",
       "CompPrice    0.064079   1.000000 -0.080653    -0.024199   -0.094707  0.584848   \n",
       "Income       0.151951  -0.080653  1.000000     0.058995   -0.007877 -0.056698   \n",
       "Advertising  0.269507  -0.024199  0.058995     1.000000    0.265652  0.044537   \n",
       "Population   0.050471  -0.094707 -0.007877     0.265652    1.000000 -0.012144   \n",
       "Price       -0.444951   0.584848 -0.056698     0.044537   -0.012144  1.000000   \n",
       "Age         -0.231815  -0.100239 -0.004670    -0.004557   -0.042663 -0.102177   \n",
       "Education   -0.051955   0.025197 -0.056855    -0.033594   -0.106378  0.011747   \n",
       "\n",
       "                  Age  Education  \n",
       "Sales       -0.231815  -0.051955  \n",
       "CompPrice   -0.100239   0.025197  \n",
       "Income      -0.004670  -0.056855  \n",
       "Advertising -0.004557  -0.033594  \n",
       "Population  -0.042663  -0.106378  \n",
       "Price       -0.102177   0.011747  \n",
       "Age          1.000000   0.006488  \n",
       "Education    0.006488   1.000000  "
      ]
     },
     "execution_count": 7,
     "metadata": {},
     "output_type": "execute_result"
    }
   ],
   "source": [
    "df.corr()"
   ]
  },
  {
   "cell_type": "code",
   "execution_count": 8,
   "metadata": {},
   "outputs": [],
   "source": [
    "## To convert object variable intp int64\n",
    "df.ShelveLoc.replace(('Bad','Good','Medium'),(0,1,2),inplace=True)\n",
    "df.Urban.replace(('Yes','No'),(0,1),inplace=True)\n",
    "df.US.replace(('Yes','No'),(0,1),inplace=True)"
   ]
  },
  {
   "cell_type": "code",
   "execution_count": 9,
   "metadata": {},
   "outputs": [
    {
     "data": {
      "text/html": [
       "<div>\n",
       "<style scoped>\n",
       "    .dataframe tbody tr th:only-of-type {\n",
       "        vertical-align: middle;\n",
       "    }\n",
       "\n",
       "    .dataframe tbody tr th {\n",
       "        vertical-align: top;\n",
       "    }\n",
       "\n",
       "    .dataframe thead th {\n",
       "        text-align: right;\n",
       "    }\n",
       "</style>\n",
       "<table border=\"1\" class=\"dataframe\">\n",
       "  <thead>\n",
       "    <tr style=\"text-align: right;\">\n",
       "      <th></th>\n",
       "      <th>Sales</th>\n",
       "      <th>CompPrice</th>\n",
       "      <th>Income</th>\n",
       "      <th>Advertising</th>\n",
       "      <th>Population</th>\n",
       "      <th>Price</th>\n",
       "      <th>ShelveLoc</th>\n",
       "      <th>Age</th>\n",
       "      <th>Education</th>\n",
       "      <th>Urban</th>\n",
       "      <th>US</th>\n",
       "    </tr>\n",
       "  </thead>\n",
       "  <tbody>\n",
       "    <tr>\n",
       "      <th>0</th>\n",
       "      <td>9.50</td>\n",
       "      <td>138</td>\n",
       "      <td>73</td>\n",
       "      <td>11</td>\n",
       "      <td>276</td>\n",
       "      <td>120</td>\n",
       "      <td>0</td>\n",
       "      <td>42</td>\n",
       "      <td>17</td>\n",
       "      <td>0</td>\n",
       "      <td>0</td>\n",
       "    </tr>\n",
       "    <tr>\n",
       "      <th>1</th>\n",
       "      <td>11.22</td>\n",
       "      <td>111</td>\n",
       "      <td>48</td>\n",
       "      <td>16</td>\n",
       "      <td>260</td>\n",
       "      <td>83</td>\n",
       "      <td>1</td>\n",
       "      <td>65</td>\n",
       "      <td>10</td>\n",
       "      <td>0</td>\n",
       "      <td>0</td>\n",
       "    </tr>\n",
       "    <tr>\n",
       "      <th>2</th>\n",
       "      <td>10.06</td>\n",
       "      <td>113</td>\n",
       "      <td>35</td>\n",
       "      <td>10</td>\n",
       "      <td>269</td>\n",
       "      <td>80</td>\n",
       "      <td>2</td>\n",
       "      <td>59</td>\n",
       "      <td>12</td>\n",
       "      <td>0</td>\n",
       "      <td>0</td>\n",
       "    </tr>\n",
       "    <tr>\n",
       "      <th>3</th>\n",
       "      <td>7.40</td>\n",
       "      <td>117</td>\n",
       "      <td>100</td>\n",
       "      <td>4</td>\n",
       "      <td>466</td>\n",
       "      <td>97</td>\n",
       "      <td>2</td>\n",
       "      <td>55</td>\n",
       "      <td>14</td>\n",
       "      <td>0</td>\n",
       "      <td>0</td>\n",
       "    </tr>\n",
       "    <tr>\n",
       "      <th>4</th>\n",
       "      <td>4.15</td>\n",
       "      <td>141</td>\n",
       "      <td>64</td>\n",
       "      <td>3</td>\n",
       "      <td>340</td>\n",
       "      <td>128</td>\n",
       "      <td>0</td>\n",
       "      <td>38</td>\n",
       "      <td>13</td>\n",
       "      <td>0</td>\n",
       "      <td>1</td>\n",
       "    </tr>\n",
       "  </tbody>\n",
       "</table>\n",
       "</div>"
      ],
      "text/plain": [
       "   Sales  CompPrice  Income  Advertising  Population  Price  ShelveLoc  Age  \\\n",
       "0   9.50        138      73           11         276    120          0   42   \n",
       "1  11.22        111      48           16         260     83          1   65   \n",
       "2  10.06        113      35           10         269     80          2   59   \n",
       "3   7.40        117     100            4         466     97          2   55   \n",
       "4   4.15        141      64            3         340    128          0   38   \n",
       "\n",
       "   Education  Urban  US  \n",
       "0         17      0   0  \n",
       "1         10      0   0  \n",
       "2         12      0   0  \n",
       "3         14      0   0  \n",
       "4         13      0   1  "
      ]
     },
     "execution_count": 9,
     "metadata": {},
     "output_type": "execute_result"
    }
   ],
   "source": [
    "df.head()"
   ]
  },
  {
   "cell_type": "code",
   "execution_count": 10,
   "metadata": {},
   "outputs": [
    {
     "data": {
      "text/plain": [
       "Index(['CompPrice', 'Income', 'Advertising', 'Population', 'Price',\n",
       "       'ShelveLoc', 'Age', 'Education', 'Urban', 'US'],\n",
       "      dtype='object')"
      ]
     },
     "execution_count": 10,
     "metadata": {},
     "output_type": "execute_result"
    }
   ],
   "source": [
    "columns=df.iloc[:,1:].columns\n",
    "columns"
   ]
  },
  {
   "cell_type": "code",
   "execution_count": 11,
   "metadata": {},
   "outputs": [
    {
     "data": {
      "text/plain": [
       "2    219\n",
       "0     96\n",
       "1     85\n",
       "Name: ShelveLoc, dtype: int64"
      ]
     },
     "execution_count": 11,
     "metadata": {},
     "output_type": "execute_result"
    }
   ],
   "source": [
    "df.ShelveLoc.value_counts()"
   ]
  },
  {
   "cell_type": "code",
   "execution_count": 12,
   "metadata": {},
   "outputs": [
    {
     "data": {
      "text/plain": [
       "0    282\n",
       "1    118\n",
       "Name: Urban, dtype: int64"
      ]
     },
     "execution_count": 12,
     "metadata": {},
     "output_type": "execute_result"
    }
   ],
   "source": [
    "df.Urban.value_counts()"
   ]
  },
  {
   "cell_type": "code",
   "execution_count": 13,
   "metadata": {},
   "outputs": [
    {
     "data": {
      "text/plain": [
       "0    258\n",
       "1    142\n",
       "Name: US, dtype: int64"
      ]
     },
     "execution_count": 13,
     "metadata": {},
     "output_type": "execute_result"
    }
   ],
   "source": [
    "df.US.value_counts()"
   ]
  },
  {
   "cell_type": "code",
   "execution_count": 14,
   "metadata": {},
   "outputs": [],
   "source": [
    "from sklearn.preprocessing import Binarizer"
   ]
  },
  {
   "cell_type": "code",
   "execution_count": 15,
   "metadata": {},
   "outputs": [],
   "source": [
    "bin=Binarizer(threshold=7.49)"
   ]
  },
  {
   "cell_type": "code",
   "execution_count": 16,
   "metadata": {},
   "outputs": [],
   "source": [
    "col=df['Sales'].values\n",
    "col=col.reshape(-1,1)"
   ]
  },
  {
   "cell_type": "code",
   "execution_count": 17,
   "metadata": {},
   "outputs": [
    {
     "data": {
      "text/plain": [
       "array([[ 9.5 ],\n",
       "       [11.22],\n",
       "       [10.06],\n",
       "       [ 7.4 ],\n",
       "       [ 4.15],\n",
       "       [10.81],\n",
       "       [ 6.63],\n",
       "       [11.85],\n",
       "       [ 6.54],\n",
       "       [ 4.69],\n",
       "       [ 9.01],\n",
       "       [11.96],\n",
       "       [ 3.98],\n",
       "       [10.96],\n",
       "       [11.17],\n",
       "       [ 8.71],\n",
       "       [ 7.58],\n",
       "       [12.29],\n",
       "       [13.91],\n",
       "       [ 8.73],\n",
       "       [ 6.41],\n",
       "       [12.13],\n",
       "       [ 5.08],\n",
       "       [ 5.87],\n",
       "       [10.14],\n",
       "       [14.9 ],\n",
       "       [ 8.33],\n",
       "       [ 5.27],\n",
       "       [ 2.99],\n",
       "       [ 7.81],\n",
       "       [13.55],\n",
       "       [ 8.25],\n",
       "       [ 6.2 ],\n",
       "       [ 8.77],\n",
       "       [ 2.67],\n",
       "       [11.07],\n",
       "       [ 8.89],\n",
       "       [ 4.95],\n",
       "       [ 6.59],\n",
       "       [ 3.24],\n",
       "       [ 2.07],\n",
       "       [ 7.96],\n",
       "       [10.43],\n",
       "       [ 4.12],\n",
       "       [ 4.16],\n",
       "       [ 4.56],\n",
       "       [12.44],\n",
       "       [ 4.38],\n",
       "       [ 3.91],\n",
       "       [10.61],\n",
       "       [ 1.42],\n",
       "       [ 4.42],\n",
       "       [ 7.91],\n",
       "       [ 6.92],\n",
       "       [ 4.9 ],\n",
       "       [ 6.85],\n",
       "       [11.91],\n",
       "       [ 0.91],\n",
       "       [ 5.42],\n",
       "       [ 5.21],\n",
       "       [ 8.32],\n",
       "       [ 7.32],\n",
       "       [ 1.82],\n",
       "       [ 8.47],\n",
       "       [ 7.8 ],\n",
       "       [ 4.9 ],\n",
       "       [ 8.85],\n",
       "       [ 9.01],\n",
       "       [13.39],\n",
       "       [ 7.99],\n",
       "       [ 9.46],\n",
       "       [ 6.5 ],\n",
       "       [ 5.52],\n",
       "       [12.61],\n",
       "       [ 6.2 ],\n",
       "       [ 8.55],\n",
       "       [10.64],\n",
       "       [ 7.7 ],\n",
       "       [ 4.43],\n",
       "       [ 9.14],\n",
       "       [ 8.01],\n",
       "       [ 7.52],\n",
       "       [11.62],\n",
       "       [ 4.42],\n",
       "       [ 2.23],\n",
       "       [ 8.47],\n",
       "       [ 8.7 ],\n",
       "       [11.7 ],\n",
       "       [ 6.56],\n",
       "       [ 7.95],\n",
       "       [ 5.33],\n",
       "       [ 4.81],\n",
       "       [ 4.53],\n",
       "       [ 8.86],\n",
       "       [ 8.39],\n",
       "       [ 5.58],\n",
       "       [ 9.48],\n",
       "       [ 7.45],\n",
       "       [12.49],\n",
       "       [ 4.88],\n",
       "       [ 4.11],\n",
       "       [ 6.2 ],\n",
       "       [ 5.3 ],\n",
       "       [ 5.07],\n",
       "       [ 4.62],\n",
       "       [ 5.55],\n",
       "       [ 0.16],\n",
       "       [ 8.55],\n",
       "       [ 3.47],\n",
       "       [ 8.98],\n",
       "       [ 9.  ],\n",
       "       [ 6.62],\n",
       "       [ 6.67],\n",
       "       [ 6.01],\n",
       "       [ 9.31],\n",
       "       [ 8.54],\n",
       "       [ 5.08],\n",
       "       [ 8.8 ],\n",
       "       [ 7.57],\n",
       "       [ 7.37],\n",
       "       [ 6.87],\n",
       "       [11.67],\n",
       "       [ 6.88],\n",
       "       [ 8.19],\n",
       "       [ 8.87],\n",
       "       [ 9.34],\n",
       "       [11.27],\n",
       "       [ 6.52],\n",
       "       [ 4.96],\n",
       "       [ 4.47],\n",
       "       [ 8.41],\n",
       "       [ 6.5 ],\n",
       "       [ 9.54],\n",
       "       [ 7.62],\n",
       "       [ 3.67],\n",
       "       [ 6.44],\n",
       "       [ 5.17],\n",
       "       [ 6.52],\n",
       "       [10.27],\n",
       "       [12.3 ],\n",
       "       [ 6.03],\n",
       "       [ 6.53],\n",
       "       [ 7.44],\n",
       "       [ 0.53],\n",
       "       [ 9.09],\n",
       "       [ 8.77],\n",
       "       [ 3.9 ],\n",
       "       [10.51],\n",
       "       [ 7.56],\n",
       "       [11.48],\n",
       "       [10.49],\n",
       "       [10.77],\n",
       "       [ 7.64],\n",
       "       [ 5.93],\n",
       "       [ 6.89],\n",
       "       [ 7.71],\n",
       "       [ 7.49],\n",
       "       [10.21],\n",
       "       [12.53],\n",
       "       [ 9.32],\n",
       "       [ 4.67],\n",
       "       [ 2.93],\n",
       "       [ 3.63],\n",
       "       [ 5.68],\n",
       "       [ 8.22],\n",
       "       [ 0.37],\n",
       "       [ 6.71],\n",
       "       [ 6.71],\n",
       "       [ 7.3 ],\n",
       "       [11.48],\n",
       "       [ 8.01],\n",
       "       [12.49],\n",
       "       [ 9.03],\n",
       "       [ 6.38],\n",
       "       [ 0.  ],\n",
       "       [ 7.54],\n",
       "       [ 5.61],\n",
       "       [10.48],\n",
       "       [10.66],\n",
       "       [ 7.78],\n",
       "       [ 4.94],\n",
       "       [ 7.43],\n",
       "       [ 4.74],\n",
       "       [ 5.32],\n",
       "       [ 9.95],\n",
       "       [10.07],\n",
       "       [ 8.68],\n",
       "       [ 6.03],\n",
       "       [ 8.07],\n",
       "       [12.11],\n",
       "       [ 8.79],\n",
       "       [ 6.67],\n",
       "       [ 7.56],\n",
       "       [13.28],\n",
       "       [ 7.23],\n",
       "       [ 4.19],\n",
       "       [ 4.1 ],\n",
       "       [ 2.52],\n",
       "       [ 3.62],\n",
       "       [ 6.42],\n",
       "       [ 5.56],\n",
       "       [ 5.94],\n",
       "       [ 4.1 ],\n",
       "       [ 2.05],\n",
       "       [ 8.74],\n",
       "       [ 5.68],\n",
       "       [ 4.97],\n",
       "       [ 8.19],\n",
       "       [ 7.78],\n",
       "       [ 3.02],\n",
       "       [ 4.36],\n",
       "       [ 9.39],\n",
       "       [12.04],\n",
       "       [ 8.23],\n",
       "       [ 4.83],\n",
       "       [ 2.34],\n",
       "       [ 5.73],\n",
       "       [ 4.34],\n",
       "       [ 9.7 ],\n",
       "       [10.62],\n",
       "       [10.59],\n",
       "       [ 6.43],\n",
       "       [ 7.49],\n",
       "       [ 3.45],\n",
       "       [ 4.1 ],\n",
       "       [ 6.68],\n",
       "       [ 7.8 ],\n",
       "       [ 8.69],\n",
       "       [ 5.4 ],\n",
       "       [11.19],\n",
       "       [ 5.16],\n",
       "       [ 8.09],\n",
       "       [13.14],\n",
       "       [ 8.65],\n",
       "       [ 9.43],\n",
       "       [ 5.53],\n",
       "       [ 9.32],\n",
       "       [ 9.62],\n",
       "       [ 7.36],\n",
       "       [ 3.89],\n",
       "       [10.31],\n",
       "       [12.01],\n",
       "       [ 4.68],\n",
       "       [ 7.82],\n",
       "       [ 8.78],\n",
       "       [10.  ],\n",
       "       [ 6.9 ],\n",
       "       [ 5.04],\n",
       "       [ 5.36],\n",
       "       [ 5.05],\n",
       "       [ 9.16],\n",
       "       [ 3.72],\n",
       "       [ 8.31],\n",
       "       [ 5.64],\n",
       "       [ 9.58],\n",
       "       [ 7.71],\n",
       "       [ 4.2 ],\n",
       "       [ 8.67],\n",
       "       [ 3.47],\n",
       "       [ 5.12],\n",
       "       [ 7.67],\n",
       "       [ 5.71],\n",
       "       [ 6.37],\n",
       "       [ 7.77],\n",
       "       [ 6.95],\n",
       "       [ 5.31],\n",
       "       [ 9.1 ],\n",
       "       [ 5.83],\n",
       "       [ 6.53],\n",
       "       [ 5.01],\n",
       "       [11.99],\n",
       "       [ 4.55],\n",
       "       [12.98],\n",
       "       [10.04],\n",
       "       [ 7.22],\n",
       "       [ 6.67],\n",
       "       [ 6.93],\n",
       "       [ 7.8 ],\n",
       "       [ 7.22],\n",
       "       [ 3.42],\n",
       "       [ 2.86],\n",
       "       [11.19],\n",
       "       [ 7.74],\n",
       "       [ 5.36],\n",
       "       [ 6.97],\n",
       "       [ 7.6 ],\n",
       "       [ 7.53],\n",
       "       [ 6.88],\n",
       "       [ 6.98],\n",
       "       [ 8.75],\n",
       "       [ 9.49],\n",
       "       [ 6.64],\n",
       "       [11.82],\n",
       "       [11.28],\n",
       "       [12.66],\n",
       "       [ 4.21],\n",
       "       [ 8.21],\n",
       "       [ 3.07],\n",
       "       [10.98],\n",
       "       [ 9.4 ],\n",
       "       [ 8.57],\n",
       "       [ 7.41],\n",
       "       [ 5.28],\n",
       "       [10.01],\n",
       "       [11.93],\n",
       "       [ 8.03],\n",
       "       [ 4.78],\n",
       "       [ 5.9 ],\n",
       "       [ 9.24],\n",
       "       [11.18],\n",
       "       [ 9.53],\n",
       "       [ 6.15],\n",
       "       [ 6.8 ],\n",
       "       [ 9.33],\n",
       "       [ 7.72],\n",
       "       [ 6.39],\n",
       "       [15.63],\n",
       "       [ 6.41],\n",
       "       [10.08],\n",
       "       [ 6.97],\n",
       "       [ 5.86],\n",
       "       [ 7.52],\n",
       "       [ 9.16],\n",
       "       [10.36],\n",
       "       [ 2.66],\n",
       "       [11.7 ],\n",
       "       [ 4.69],\n",
       "       [ 6.23],\n",
       "       [ 3.15],\n",
       "       [11.27],\n",
       "       [ 4.99],\n",
       "       [10.1 ],\n",
       "       [ 5.74],\n",
       "       [ 5.87],\n",
       "       [ 7.63],\n",
       "       [ 6.18],\n",
       "       [ 5.17],\n",
       "       [ 8.61],\n",
       "       [ 5.97],\n",
       "       [11.54],\n",
       "       [ 7.5 ],\n",
       "       [ 7.38],\n",
       "       [ 7.81],\n",
       "       [ 5.99],\n",
       "       [ 8.43],\n",
       "       [ 4.81],\n",
       "       [ 8.97],\n",
       "       [ 6.88],\n",
       "       [12.57],\n",
       "       [ 9.32],\n",
       "       [ 8.64],\n",
       "       [10.44],\n",
       "       [13.44],\n",
       "       [ 9.45],\n",
       "       [ 5.3 ],\n",
       "       [ 7.02],\n",
       "       [ 3.58],\n",
       "       [13.36],\n",
       "       [ 4.17],\n",
       "       [ 3.13],\n",
       "       [ 8.77],\n",
       "       [ 8.68],\n",
       "       [ 5.25],\n",
       "       [10.26],\n",
       "       [10.5 ],\n",
       "       [ 6.53],\n",
       "       [ 5.98],\n",
       "       [14.37],\n",
       "       [10.71],\n",
       "       [10.26],\n",
       "       [ 7.68],\n",
       "       [ 9.08],\n",
       "       [ 7.8 ],\n",
       "       [ 5.58],\n",
       "       [ 9.44],\n",
       "       [ 7.9 ],\n",
       "       [16.27],\n",
       "       [ 6.81],\n",
       "       [ 6.11],\n",
       "       [ 5.81],\n",
       "       [ 9.64],\n",
       "       [ 3.9 ],\n",
       "       [ 4.95],\n",
       "       [ 9.35],\n",
       "       [12.85],\n",
       "       [ 5.87],\n",
       "       [ 5.32],\n",
       "       [ 8.67],\n",
       "       [ 8.14],\n",
       "       [ 8.44],\n",
       "       [ 5.47],\n",
       "       [ 6.1 ],\n",
       "       [ 4.53],\n",
       "       [ 5.57],\n",
       "       [ 5.35],\n",
       "       [12.57],\n",
       "       [ 6.14],\n",
       "       [ 7.41],\n",
       "       [ 5.94],\n",
       "       [ 9.71]])"
      ]
     },
     "execution_count": 17,
     "metadata": {},
     "output_type": "execute_result"
    }
   ],
   "source": [
    "col"
   ]
  },
  {
   "cell_type": "code",
   "execution_count": 18,
   "metadata": {},
   "outputs": [],
   "source": [
    "x1=df.iloc[:,1:]\n",
    "y1=bin.fit_transform(col)"
   ]
  },
  {
   "cell_type": "code",
   "execution_count": 19,
   "metadata": {},
   "outputs": [
    {
     "name": "stderr",
     "output_type": "stream",
     "text": [
      "<ipython-input-19-ec26331cf652>:4: DataConversionWarning: A column-vector y was passed when a 1d array was expected. Please change the shape of y to (n_samples,), for example using ravel().\n",
      "  model.fit(x1,y1)\n"
     ]
    },
    {
     "name": "stdout",
     "output_type": "stream",
     "text": [
      "[0.10172651 0.08932576 0.10489629 0.08222831 0.21566587 0.14814749\n",
      " 0.12108704 0.08123837 0.03037393 0.02531044]\n"
     ]
    },
    {
     "data": {
      "image/png": "[encoded data removed]",
      "text/plain": [
       "<Figure size 432x288 with 1 Axes>"
      ]
     },
     "metadata": {
      "needs_background": "light"
     },
     "output_type": "display_data"
    }
   ],
   "source": [
    "from sklearn.ensemble import ExtraTreesClassifier\n",
    "import matplotlib.pyplot as plt\n",
    "model = ExtraTreesClassifier()\n",
    "model.fit(x1,y1)\n",
    "print(model.feature_importances_) #use inbuilt class feature_importances of tree based classifiers\n",
    "#plot graph of feature importances for better visualization\n",
    "feat_importances = pd.Series(model.feature_importances_, index=columns)\n",
    "feat_importances.nlargest(10).plot(kind='barh')\n",
    "plt.show()"
   ]
  },
  {
   "cell_type": "code",
   "execution_count": 20,
   "metadata": {},
   "outputs": [],
   "source": [
    "df.drop(['US'],axis=1,inplace=True)\n",
    "df.drop(['Urban'],axis=1,inplace=True)\n",
    "df.drop(['Education'],axis=1,inplace=True)\n"
   ]
  },
  {
   "cell_type": "code",
   "execution_count": null,
   "metadata": {},
   "outputs": [],
   "source": []
  },
  {
   "cell_type": "code",
   "execution_count": 21,
   "metadata": {},
   "outputs": [],
   "source": [
    "y=y1"
   ]
  },
  {
   "cell_type": "code",
   "execution_count": 23,
   "metadata": {},
   "outputs": [
    {
     "data": {
      "text/plain": [
       "array([[138,  73,  11, 276, 120],\n",
       "       [111,  48,  16, 260,  83],\n",
       "       [113,  35,  10, 269,  80],\n",
       "       ...,\n",
       "       [162,  26,  12, 368, 159],\n",
       "       [100,  79,   7, 284,  95],\n",
       "       [134,  37,   0,  27, 120]], dtype=int64)"
      ]
     },
     "execution_count": 23,
     "metadata": {},
     "output_type": "execute_result"
    }
   ],
   "source": [
    "\n",
    "x_=df.iloc[:,1:6]\n",
    "x=x_.values\n",
    "x"
   ]
  },
  {
   "cell_type": "code",
   "execution_count": 24,
   "metadata": {},
   "outputs": [],
   "source": [
    "x_train,x_test,y_train,y_test=train_test_split(x,y,test_size=0.20,random_state=30)"
   ]
  },
  {
   "cell_type": "code",
   "execution_count": 25,
   "metadata": {},
   "outputs": [],
   "source": [
    "model=DecisionTreeClassifier(criterion='entropy',max_depth=5)"
   ]
  },
  {
   "cell_type": "code",
   "execution_count": 26,
   "metadata": {},
   "outputs": [
    {
     "data": {
      "text/plain": [
       "DecisionTreeClassifier(criterion='entropy', max_depth=5)"
      ]
     },
     "execution_count": 26,
     "metadata": {},
     "output_type": "execute_result"
    }
   ],
   "source": [
    "model.fit(x_train,y_train)"
   ]
  },
  {
   "cell_type": "code",
   "execution_count": 27,
   "metadata": {},
   "outputs": [
    {
     "data": {
      "text/plain": [
       "0.496875"
      ]
     },
     "execution_count": 27,
     "metadata": {},
     "output_type": "execute_result"
    }
   ],
   "source": [
    "pred1=model.predict(x_train)\n",
    "np.mean(pred1==y_test)"
   ]
  },
  {
   "cell_type": "code",
   "execution_count": 28,
   "metadata": {},
   "outputs": [
    {
     "data": {
      "text/plain": [
       "0.496875"
      ]
     },
     "execution_count": 28,
     "metadata": {},
     "output_type": "execute_result"
    }
   ],
   "source": [
    "pred2=model.predict(x_test)\n",
    "np.mean(pred2==y_test)\n"
   ]
  },
  {
   "cell_type": "code",
   "execution_count": 29,
   "metadata": {},
   "outputs": [
    {
     "data": {
      "image/png": "[encoded data removed]",
      "text/plain": [
       "<Figure size 432x288 with 1 Axes>"
      ]
     },
     "metadata": {
      "needs_background": "light"
     },
     "output_type": "display_data"
    }
   ],
   "source": [
    "tree.plot_tree(model);"
   ]
  },
  {
   "cell_type": "code",
   "execution_count": 30,
   "metadata": {},
   "outputs": [
    {
     "data": {
      "text/plain": [
       "0.0    168\n",
       "1.0    152\n",
       "dtype: int64"
      ]
     },
     "execution_count": 30,
     "metadata": {},
     "output_type": "execute_result"
    }
   ],
   "source": [
    "pd.Series(pred1).value_counts()"
   ]
  },
  {
   "cell_type": "code",
   "execution_count": 31,
   "metadata": {},
   "outputs": [
    {
     "data": {
      "text/plain": [
       "0.0    42\n",
       "1.0    38\n",
       "dtype: int64"
      ]
     },
     "execution_count": 31,
     "metadata": {},
     "output_type": "execute_result"
    }
   ],
   "source": [
    "pd.Series(pred2).value_counts()"
   ]
  },
  {
   "cell_type": "code",
   "execution_count": null,
   "metadata": {},
   "outputs": [],
   "source": []
  },
  {
   "cell_type": "code",
   "execution_count": 32,
   "metadata": {},
   "outputs": [],
   "source": [
    "from sklearn.tree import DecisionTreeClassifier\n",
    "model_gini=DecisionTreeClassifier(criterion='gini',max_depth=8)"
   ]
  },
  {
   "cell_type": "code",
   "execution_count": 33,
   "metadata": {},
   "outputs": [
    {
     "data": {
      "text/plain": [
       "DecisionTreeClassifier(max_depth=8)"
      ]
     },
     "execution_count": 33,
     "metadata": {},
     "output_type": "execute_result"
    }
   ],
   "source": [
    "model_gini.fit(x_train,y_train)"
   ]
  },
  {
   "cell_type": "code",
   "execution_count": 34,
   "metadata": {},
   "outputs": [
    {
     "data": {
      "text/plain": [
       "0.5019921875"
      ]
     },
     "execution_count": 34,
     "metadata": {},
     "output_type": "execute_result"
    }
   ],
   "source": [
    "pred3=model_gini.predict(x_train)\n",
    "np.mean(pred3==y_train)"
   ]
  },
  {
   "cell_type": "code",
   "execution_count": 35,
   "metadata": {},
   "outputs": [
    {
     "data": {
      "text/plain": [
       "0.5015625"
      ]
     },
     "execution_count": 35,
     "metadata": {},
     "output_type": "execute_result"
    }
   ],
   "source": [
    "pred4=model_gini.predict(x_test)\n",
    "np.mean(pred4==y_test)"
   ]
  },
  {
   "cell_type": "code",
   "execution_count": null,
   "metadata": {},
   "outputs": [],
   "source": []
  },
  {
   "cell_type": "code",
   "execution_count": null,
   "metadata": {},
   "outputs": [],
   "source": []
  },
  {
   "cell_type": "code",
   "execution_count": null,
   "metadata": {},
   "outputs": [],
   "source": []
  }
 ],
 "metadata": {
  "kernelspec": {
   "display_name": "Python 3",
   "language": "python",
   "name": "python3"
  },
  "language_info": {
   "codemirror_mode": {
    "name": "ipython",
    "version": 3
   },
   "file_extension": ".py",
   "mimetype": "text/x-python",
   "name": "python",
   "nbconvert_exporter": "python",
   "pygments_lexer": "ipython3",
   "version": "3.8.5"
  }
 },
 "nbformat": 4,
 "nbformat_minor": 4
}
